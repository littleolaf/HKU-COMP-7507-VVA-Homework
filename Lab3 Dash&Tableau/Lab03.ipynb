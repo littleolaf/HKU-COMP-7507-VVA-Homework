{
 "cells": [
  {
   "cell_type": "markdown",
   "id": "37cb8baf-7fcc-4a55-92be-b5ecf4b87268",
   "metadata": {},
   "source": [
    "# TASK 01 Treemap Chart with Dash\n",
    "dash layout"
   ]
  },
  {
   "cell_type": "code",
   "execution_count": 1,
   "id": "fe85d600-d16c-4c87-ad93-5ac071070b61",
   "metadata": {},
   "outputs": [
    {
     "name": "stdout",
     "output_type": "stream",
     "text": [
      "2.17.0\n"
     ]
    }
   ],
   "source": [
    "import dash\n",
    "print (dash.__version__)"
   ]
  },
  {
   "cell_type": "code",
   "execution_count": 2,
   "id": "87089fbc-abda-4d3f-8487-7f94bf2bcfc8",
   "metadata": {},
   "outputs": [],
   "source": [
    "import plotly.express as px\n",
    "#layouts\n",
    "from dash import html,dcc,Dash\n",
    "import pandas as pd"
   ]
  },
  {
   "cell_type": "code",
   "execution_count": 3,
   "id": "6e6c4e74-6778-4ea2-8d51-690eaea34d98",
   "metadata": {},
   "outputs": [],
   "source": [
    "dataDict={\n",
    "    'food':['chicken','pork','beef','carrots','brocoli','apples','oranges','bananas'],\n",
    "    'sales':[100,200,210,120,131,90,30,60],\n",
    "    'category':['Meat','Meat','Meat','Vegetables','Vegetables','Fruits','Fruits','Fruits']\n",
    "}\n",
    "df = pd.DataFrame(dataDict)\n",
    "figTreemap=px.treemap(df,path=['category','food'],values='sales')"
   ]
  },
  {
   "cell_type": "markdown",
   "id": "c825cad0-ea8b-4afa-b253-785ee7168136",
   "metadata": {},
   "source": [
    "create the Dash application and set the correspond layout"
   ]
  },
  {
   "cell_type": "code",
   "execution_count": 4,
   "id": "2d78efe4-3e48-4e09-a7d9-afc1cb1161fe",
   "metadata": {},
   "outputs": [],
   "source": [
    "app = Dash()\n",
    "app.layout=html.Div([\n",
    "    dcc.Graph(\n",
    "        id='figTreemap',\n",
    "        figure=figTreemap\n",
    "    )\n",
    "])"
   ]
  },
  {
   "cell_type": "code",
   "execution_count": 5,
   "id": "f7597e0c-2474-4966-9c08-725a5bbab4e3",
   "metadata": {},
   "outputs": [],
   "source": [
    "#app.run(jupyter_mode='external')"
   ]
  },
  {
   "cell_type": "markdown",
   "id": "8dfa145a-7748-4c89-8328-ec072bd66347",
   "metadata": {},
   "source": [
    "# TASK 02\n",
    "Dash callbacks for interaction"
   ]
  },
  {
   "cell_type": "code",
   "execution_count": 6,
   "id": "96f3b0f5-fdd3-466f-a6f4-20b824789924",
   "metadata": {},
   "outputs": [],
   "source": [
    "from dash.dependencies import Input,Output\n",
    "import json"
   ]
  },
  {
   "cell_type": "code",
   "execution_count": 7,
   "id": "cfdf2fed-feb5-4128-a94b-8b8671989bf5",
   "metadata": {},
   "outputs": [],
   "source": [
    "app = Dash()\n",
    "app.layout=html.Div(children=[\n",
    "    dcc.Graph(\n",
    "        id='figTreemap',\n",
    "        figure=figTreemap\n",
    "    ),\n",
    "    html.Pre(id=\"myoutput\"),\n",
    "])"
   ]
  },
  {
   "cell_type": "code",
   "execution_count": 8,
   "id": "12df6860-2b1a-4eec-a932-20c45b57232e",
   "metadata": {},
   "outputs": [],
   "source": [
    "@app.callback(\n",
    "    Output('myoutput','children'),\n",
    "    [Input('figTreemap','hoverData')]\n",
    ")\n",
    "def showHoverData(hoverData):\n",
    "    return json.dumps(hoverData,indent=2)"
   ]
  },
  {
   "cell_type": "markdown",
   "id": "eed40066-748d-4d4d-b1ab-298ddc50b85d",
   "metadata": {},
   "source": [
    "# TASK 03 Simple Interactive Visualization"
   ]
  },
  {
   "cell_type": "code",
   "execution_count": 9,
   "id": "a7f94fcb-6fbf-4663-a6c8-827ea25280d2",
   "metadata": {},
   "outputs": [],
   "source": [
    "import copy"
   ]
  },
  {
   "cell_type": "code",
   "execution_count": 10,
   "id": "814a21b7-7c42-4ad8-9da8-865c05d8d0c4",
   "metadata": {},
   "outputs": [],
   "source": [
    "dataDict={\n",
    "    'food':['chicken','pork','beef','carrots','brocoli','apples','oranges','bananas'],\n",
    "    'sales':[100,200,210,120,131,90,30,60],\n",
    "    'category':['Meat','Meat','Meat','Vegetables','Vegetables','Fruits','Fruits','Fruits']\n",
    "}\n",
    "df = pd.DataFrame(dataDict)\n",
    "figTreemap=px.treemap(df,path=['category','food'],values='sales')"
   ]
  },
  {
   "cell_type": "code",
   "execution_count": 11,
   "id": "27c35540-ae6c-422f-a869-64165dfb96f3",
   "metadata": {},
   "outputs": [],
   "source": [
    "barColor = ['blue','blue','blue','blue','blue','blue','blue','blue']\n",
    "figBarchart=px.bar(df,x='food',y='sales',height=400,color_discrete_sequence=barColor)\n",
    "app = Dash()\n",
    "app.layout=html.Div(children=[\n",
    "    dcc.Graph(\n",
    "        id='figTreemap',\n",
    "        figure=figTreemap\n",
    "    ),\n",
    "    dcc.Graph(\n",
    "        id='figBarchart',\n",
    "        figure=figBarchart\n",
    "    )\n",
    "])"
   ]
  },
  {
   "cell_type": "code",
   "execution_count": 12,
   "id": "b868e9f0-5b0b-4529-bb1e-a4a6d40c5e3d",
   "metadata": {
    "scrolled": true
   },
   "outputs": [],
   "source": [
    "@app.callback(\n",
    "    Output('figBarchart','figure'),\n",
    "    [Input('figTreemap','hoverData')]\n",
    ")\n",
    "def LinkTreemapBarchart(hoverData):\n",
    "    updateBar=copy.deepcopy(figBarchart)\n",
    "    updateColor=copy.deepcopy(barColor)\n",
    "    categories=dataDict['category']\n",
    "    if hoverData is not None and 'parent' in hoverData['points'][0]:\n",
    "        hoverLabel=hoverData['points'][0]['parent']\n",
    "        for i,category in enumerate(categories):\n",
    "            if hoverLabel==category:\n",
    "                updateColor[i]='red'\n",
    "                updateBar.update_traces(marker_color=updateColor)\n",
    "    return updateBar"
   ]
  },
  {
   "cell_type": "code",
   "execution_count": 13,
   "id": "c0a928d3-315f-4d8d-b5ea-f614a3561cf2",
   "metadata": {
    "scrolled": true
   },
   "outputs": [
    {
     "name": "stdout",
     "output_type": "stream",
     "text": [
      "Dash app running on http://127.0.0.1:8050/\n"
     ]
    }
   ],
   "source": [
    "app.run(jupyter_mode='external')"
   ]
  },
  {
   "cell_type": "code",
   "execution_count": null,
   "id": "2ec3b7a6-3151-4c5c-af91-4f7262401238",
   "metadata": {},
   "outputs": [],
   "source": []
  }
 ],
 "metadata": {
  "kernelspec": {
   "display_name": "Python 3 (ipykernel)",
   "language": "python",
   "name": "python3"
  },
  "language_info": {
   "codemirror_mode": {
    "name": "ipython",
    "version": 3
   },
   "file_extension": ".py",
   "mimetype": "text/x-python",
   "name": "python",
   "nbconvert_exporter": "python",
   "pygments_lexer": "ipython3",
   "version": "3.8.19"
  }
 },
 "nbformat": 4,
 "nbformat_minor": 5
}
